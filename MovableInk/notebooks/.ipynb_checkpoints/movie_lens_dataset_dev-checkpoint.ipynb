{
 "cells": [
  {
   "cell_type": "code",
   "execution_count": 1,
   "id": "01dfec22-652e-4fdd-bac5-647388a68dc9",
   "metadata": {},
   "outputs": [],
   "source": [
    "import time\n",
    "import pyspark\n",
    "import pyspark.sql.types as t\n",
    "import pyspark.sql.functions as f\n",
    "from pyspark import SparkContext\n",
    "from pyspark.sql import SparkSession\n",
    "from pyspark.sql.functions import explode, split, count, desc, row_number, col, length\n",
    "from pyspark.sql.window import Window\n",
    "from tabulate import tabulate"
   ]
  },
  {
   "cell_type": "code",
   "execution_count": 2,
   "id": "0c459ea4-d646-4cda-8cd1-bcfc73198167",
   "metadata": {},
   "outputs": [
    {
     "data": {
      "text/plain": [
       "'3.3.2'"
      ]
     },
     "execution_count": 2,
     "metadata": {},
     "output_type": "execute_result"
    }
   ],
   "source": [
    "pyspark.__version__"
   ]
  },
  {
   "cell_type": "code",
   "execution_count": 3,
   "id": "404c2125-d62c-4303-b9dc-d6d0b5d82abc",
   "metadata": {},
   "outputs": [
    {
     "name": "stdout",
     "output_type": "stream",
     "text": [
      "24/04/17 20:58:37 WARN Utils: Your hostname, codespaces-f652b0 resolves to a loopback address: 127.0.0.1; using 172.16.5.4 instead (on interface eth0)\n",
      "24/04/17 20:58:37 WARN Utils: Set SPARK_LOCAL_IP if you need to bind to another address\n"
     ]
    },
    {
     "name": "stderr",
     "output_type": "stream",
     "text": [
      "Setting default log level to \"WARN\".\n",
      "To adjust logging level use sc.setLogLevel(newLevel). For SparkR, use setLogLevel(newLevel).\n"
     ]
    },
    {
     "name": "stdout",
     "output_type": "stream",
     "text": [
      "24/04/17 20:58:38 WARN NativeCodeLoader: Unable to load native-hadoop library for your platform... using builtin-java classes where applicable\n"
     ]
    }
   ],
   "source": [
    "spark = (\n",
    "    SparkSession\n",
    "    .builder\n",
    "    .appName(\"MovieLens Analysis dev-mode\") \n",
    "    .master(\"local[*]\")\n",
    "    .config(\"spark.sql.adaptive.enabled\", \"true\") \n",
    "    # .config(\"spark.sql.shuffle.partitions\", \"8\") \n",
    "    .getOrCreate()\n",
    ")"
   ]
  },
  {
   "cell_type": "code",
   "execution_count": 4,
   "id": "43f8d2a0-016e-4411-a36e-4dc456a2b517",
   "metadata": {},
   "outputs": [
    {
     "name": "stdout",
     "output_type": "stream",
     "text": [
      "4\n"
     ]
    }
   ],
   "source": [
    "print(spark.sparkContext.defaultParallelism)"
   ]
  },
  {
   "cell_type": "code",
   "execution_count": 15,
   "id": "de339ae1-db71-4355-a224-364563858aa0",
   "metadata": {},
   "outputs": [],
   "source": [
    "# Read ratings.csv, tags.csv, and movies.csv\n",
    "ratings_df = spark.read.csv(\"../input_data/ratings.csv\", header=True)\n",
    "tags_df = spark.read.csv(\"../input_data/tags.csv\", header=True)\n",
    "movies_df = spark.read.csv(\"../input_data/movies.csv\", header=True)"
   ]
  },
  {
   "cell_type": "code",
   "execution_count": 6,
   "id": "cce7dc9c-2252-4a7a-8ec1-be3417546018",
   "metadata": {},
   "outputs": [
    {
     "name": "stdout",
     "output_type": "stream",
     "text": [
      "+------+-------+-------------+----------+-------------------+\n",
      "|userId|movieId|          tag| timestamp|           date_col|\n",
      "+------+-------+-------------+----------+-------------------+\n",
      "|    18|   4141|  Mark Waters|1240597180|2009-04-24 18:19:40|\n",
      "|    65|    208|    dark hero|1368150078|2013-05-10 01:41:18|\n",
      "|    65|    353|    dark hero|1368150079|2013-05-10 01:41:19|\n",
      "|    65|    521|noir thriller|1368149983|2013-05-10 01:39:43|\n",
      "|    65|    592|    dark hero|1368150078|2013-05-10 01:41:18|\n",
      "+------+-------+-------------+----------+-------------------+\n",
      "only showing top 5 rows\n",
      "\n"
     ]
    }
   ],
   "source": [
    "tags_df = (\n",
    "    tags_df\n",
    "    .withColumn('date_col', f.from_unixtime('timestamp').cast(\"timestamp\"))\n",
    ")\n",
    "tags_df.show(5)"
   ]
  },
  {
   "cell_type": "code",
   "execution_count": 16,
   "id": "63eb7ccc-6f44-4122-857b-8b8ec0a9c93f",
   "metadata": {},
   "outputs": [
    {
     "name": "stdout",
     "output_type": "stream",
     "text": [
      "+---------------------+-----+\n",
      "|Inconsistent_Category|count|\n",
      "+---------------------+-----+\n",
      "|     No inconsistency|27039|\n",
      "|         Missig Title|  239|\n",
      "+---------------------+-----+\n",
      "\n"
     ]
    }
   ],
   "source": [
    "movies_df = (\n",
    "    movies_df\n",
    "    .withColumn(\"title_part\", f.regexp_extract(col(\"title\"), r'^(.*) \\((\\d{4})\\)$', 1))\n",
    "    .withColumn(\"Year_part\", f.regexp_extract(col(\"title\"), r'^(.*) \\((\\d{4})\\)$', 2))\n",
    "    .withColumn('Inconsistent_Category', \n",
    "                f.when(f.isnull(\"year_part\"), \"Missing Year\")\n",
    "                .when((f.isnull(\"title_part\")) | (col('title_part')=='')\n",
    "                      , \"Missig Title\"\n",
    "                     )\n",
    "                .otherwise(\"No inconsistency\")\n",
    "               )\n",
    ")\n",
    "\n",
    "inconsistent_count_df = (\n",
    "    movies_df\n",
    "    .groupBy('Inconsistent_Category')\n",
    "    .count()\n",
    ")\n",
    "\n",
    "inconsistent_count_df.show()"
   ]
  },
  {
   "cell_type": "code",
   "execution_count": 17,
   "id": "aae23dbf-9384-4fde-b334-959df236f3b6",
   "metadata": {},
   "outputs": [
    {
     "name": "stdout",
     "output_type": "stream",
     "text": [
      "+-------+-------------------------------------+-------------------------------------------+------------------------------+---------+---------------------+\n",
      "|movieId|title                                |genres                                     |title_part                    |Year_part|Inconsistent_Category|\n",
      "+-------+-------------------------------------+-------------------------------------------+------------------------------+---------+---------------------+\n",
      "|1      |Toy Story (1995)                     |Adventure|Animation|Children|Comedy|Fantasy|Toy Story                     |1995     |No inconsistency     |\n",
      "|2      |Jumanji (1995)                       |Adventure|Children|Fantasy                 |Jumanji                       |1995     |No inconsistency     |\n",
      "|3      |Grumpier Old Men (1995)              |Comedy|Romance                             |Grumpier Old Men              |1995     |No inconsistency     |\n",
      "|4      |Waiting to Exhale (1995)             |Comedy|Drama|Romance                       |Waiting to Exhale             |1995     |No inconsistency     |\n",
      "|5      |Father of the Bride Part II (1995)   |Comedy                                     |Father of the Bride Part II   |1995     |No inconsistency     |\n",
      "|6      |Heat (1995)                          |Action|Crime|Thriller                      |Heat                          |1995     |No inconsistency     |\n",
      "|7      |Sabrina (1995)                       |Comedy|Romance                             |Sabrina                       |1995     |No inconsistency     |\n",
      "|8      |Tom and Huck (1995)                  |Adventure|Children                         |Tom and Huck                  |1995     |No inconsistency     |\n",
      "|9      |Sudden Death (1995)                  |Action                                     |Sudden Death                  |1995     |No inconsistency     |\n",
      "|10     |GoldenEye (1995)                     |Action|Adventure|Thriller                  |GoldenEye                     |1995     |No inconsistency     |\n",
      "|11     |American President, The (1995)       |Comedy|Drama|Romance                       |American President, The       |1995     |No inconsistency     |\n",
      "|12     |Dracula: Dead and Loving It (1995)   |Comedy|Horror                              |Dracula: Dead and Loving It   |1995     |No inconsistency     |\n",
      "|13     |Balto (1995)                         |Adventure|Animation|Children               |Balto                         |1995     |No inconsistency     |\n",
      "|14     |Nixon (1995)                         |Drama                                      |Nixon                         |1995     |No inconsistency     |\n",
      "|15     |Cutthroat Island (1995)              |Action|Adventure|Romance                   |Cutthroat Island              |1995     |No inconsistency     |\n",
      "|16     |Casino (1995)                        |Crime|Drama                                |Casino                        |1995     |No inconsistency     |\n",
      "|17     |Sense and Sensibility (1995)         |Drama|Romance                              |Sense and Sensibility         |1995     |No inconsistency     |\n",
      "|18     |Four Rooms (1995)                    |Comedy                                     |Four Rooms                    |1995     |No inconsistency     |\n",
      "|19     |Ace Ventura: When Nature Calls (1995)|Comedy                                     |Ace Ventura: When Nature Calls|1995     |No inconsistency     |\n",
      "|20     |Money Train (1995)                   |Action|Comedy|Crime|Drama|Thriller         |Money Train                   |1995     |No inconsistency     |\n",
      "+-------+-------------------------------------+-------------------------------------------+------------------------------+---------+---------------------+\n",
      "only showing top 20 rows\n",
      "\n"
     ]
    }
   ],
   "source": [
    "movies_df.show(truncate=False)"
   ]
  },
  {
   "cell_type": "code",
   "execution_count": 6,
   "id": "70f67828-c914-4612-8645-cba8aebfd61d",
   "metadata": {},
   "outputs": [],
   "source": [
    "# Function to print null value counts for a DataFrame\n",
    "def print_null_info(df, name):\n",
    "    null_info = []\n",
    "    for col_name in df.columns:\n",
    "        null_count = df.where(col(col_name).isNull()).count()\n",
    "        null_info.append((col_name, null_count))\n",
    "    \n",
    "    print(f\"Null values in {name} DataFrame:\")\n",
    "    print(tabulate(null_info, headers=[\"Column\", \"Null Count\"], tablefmt=\"pretty\"))"
   ]
  },
  {
   "cell_type": "code",
   "execution_count": 7,
   "id": "f5b344e2-b525-4ae3-8b53-89413617a759",
   "metadata": {},
   "outputs": [
    {
     "name": "stderr",
     "output_type": "stream",
     "text": [
      "[Stage 12:==============>                                           (1 + 3) / 4]\r"
     ]
    },
    {
     "name": "stdout",
     "output_type": "stream",
     "text": [
      "Null values in ratings DataFrame:\n",
      "+-----------+------------+\n",
      "|  Column   | Null Count |\n",
      "+-----------+------------+\n",
      "|  userId   |     0      |\n",
      "|  movieId  |     0      |\n",
      "|  rating   |     0      |\n",
      "| timestamp |     0      |\n",
      "+-----------+------------+\n"
     ]
    },
    {
     "name": "stderr",
     "output_type": "stream",
     "text": [
      "                                                                                \r"
     ]
    }
   ],
   "source": [
    "print_null_info(ratings_df, \"ratings\")"
   ]
  },
  {
   "cell_type": "code",
   "execution_count": 8,
   "id": "5ed48596-05aa-4368-aa77-d194516d3743",
   "metadata": {},
   "outputs": [
    {
     "name": "stdout",
     "output_type": "stream",
     "text": [
      "Null values in tags DataFrame:\n",
      "+-----------+------------+\n",
      "|  Column   | Null Count |\n",
      "+-----------+------------+\n",
      "|  userId   |     0      |\n",
      "|  movieId  |     0      |\n",
      "|    tag    |     0      |\n",
      "| timestamp |     0      |\n",
      "+-----------+------------+\n"
     ]
    }
   ],
   "source": [
    "print_null_info(tags_df, \"tags\")"
   ]
  },
  {
   "cell_type": "code",
   "execution_count": 9,
   "id": "e8d85c6f-c103-4a7d-90c6-18a518da784b",
   "metadata": {},
   "outputs": [
    {
     "name": "stdout",
     "output_type": "stream",
     "text": [
      "Null values in movies DataFrame:\n",
      "+---------+------------+\n",
      "| Column  | Null Count |\n",
      "+---------+------------+\n",
      "| movieId |     0      |\n",
      "|  title  |     0      |\n",
      "| genres  |     0      |\n",
      "+---------+------------+\n"
     ]
    }
   ],
   "source": [
    "print_null_info(movies_df, \"movies\")"
   ]
  },
  {
   "cell_type": "code",
   "execution_count": 9,
   "id": "2a71cd02-2233-49d0-bd49-969deb144f8b",
   "metadata": {},
   "outputs": [
    {
     "name": "stdout",
     "output_type": "stream",
     "text": [
      "+------+-------+------+----------+\n",
      "|userId|movieId|rating| timestamp|\n",
      "+------+-------+------+----------+\n",
      "|     1|      2|   3.5|1112486027|\n",
      "|     1|     29|   3.5|1112484676|\n",
      "|     1|     32|   3.5|1112484819|\n",
      "|     1|     47|   3.5|1112484727|\n",
      "|     1|     50|   3.5|1112484580|\n",
      "+------+-------+------+----------+\n",
      "only showing top 5 rows\n",
      "\n"
     ]
    }
   ],
   "source": [
    "ratings_df.show(5)"
   ]
  },
  {
   "cell_type": "code",
   "execution_count": 7,
   "id": "7b3f5640-b0c3-48e7-bcc9-f2be24fe43fb",
   "metadata": {},
   "outputs": [
    {
     "name": "stdout",
     "output_type": "stream",
     "text": [
      "+------+-------+-------------+----------+\n",
      "|userId|movieId|          tag| timestamp|\n",
      "+------+-------+-------------+----------+\n",
      "|    18|   4141|  Mark Waters|1240597180|\n",
      "|    65|    208|    dark hero|1368150078|\n",
      "|    65|    353|    dark hero|1368150079|\n",
      "|    65|    521|noir thriller|1368149983|\n",
      "|    65|    592|    dark hero|1368150078|\n",
      "+------+-------+-------------+----------+\n",
      "only showing top 5 rows\n",
      "\n"
     ]
    }
   ],
   "source": [
    "tags_df.show(5)"
   ]
  },
  {
   "cell_type": "code",
   "execution_count": 21,
   "id": "436e571c-1854-4aaa-9e04-945af121615f",
   "metadata": {},
   "outputs": [
    {
     "name": "stdout",
     "output_type": "stream",
     "text": [
      "root\n",
      " |-- userId: string (nullable = true)\n",
      " |-- movieId: string (nullable = true)\n",
      " |-- tag: string (nullable = true)\n",
      " |-- timestamp: string (nullable = true)\n",
      "\n"
     ]
    }
   ],
   "source": [
    "tags_df.printSchema()"
   ]
  },
  {
   "cell_type": "code",
   "execution_count": 8,
   "id": "3af6ff5a-8300-4c4e-b781-e51b99e85b02",
   "metadata": {},
   "outputs": [
    {
     "name": "stdout",
     "output_type": "stream",
     "text": [
      "+-------+--------------------+--------------------+\n",
      "|movieId|               title|              genres|\n",
      "+-------+--------------------+--------------------+\n",
      "|      1|    Toy Story (1995)|Adventure|Animati...|\n",
      "|      2|      Jumanji (1995)|Adventure|Childre...|\n",
      "|      3|Grumpier Old Men ...|      Comedy|Romance|\n",
      "|      4|Waiting to Exhale...|Comedy|Drama|Romance|\n",
      "|      5|Father of the Bri...|              Comedy|\n",
      "+-------+--------------------+--------------------+\n",
      "only showing top 5 rows\n",
      "\n"
     ]
    }
   ],
   "source": [
    "movies_df.show(5)"
   ]
  },
  {
   "cell_type": "code",
   "execution_count": 12,
   "id": "0c9ce046-8d01-41f7-b8ea-da8da520ba6a",
   "metadata": {},
   "outputs": [
    {
     "name": "stderr",
     "output_type": "stream",
     "text": [
      "                                                                                \r"
     ]
    },
    {
     "data": {
      "text/plain": [
       "26744"
      ]
     },
     "execution_count": 12,
     "metadata": {},
     "output_type": "execute_result"
    }
   ],
   "source": [
    "# check the skewness of movieId column for partitioning\n",
    "(\n",
    "    ratings_df\n",
    "    .groupBy('movieId')\n",
    "    .agg(count('*').alias('count_by_movieId'))\n",
    "    .count()\n",
    ")"
   ]
  },
  {
   "cell_type": "code",
   "execution_count": 19,
   "id": "7b3b9c86-96d9-4197-b685-a86d7b1d86ae",
   "metadata": {},
   "outputs": [
    {
     "name": "stderr",
     "output_type": "stream",
     "text": [
      "                                                                                \r"
     ]
    },
    {
     "data": {
      "text/plain": [
       "138493"
      ]
     },
     "execution_count": 19,
     "metadata": {},
     "output_type": "execute_result"
    }
   ],
   "source": [
    "# check the skewness of userId column for partitioning\n",
    "movie_counts_df  = (\n",
    "    ratings_df\n",
    "    .groupBy('userId')\n",
    "    .agg(count('*').alias('count_by_userId'))\n",
    ")\n",
    "movie_counts_df.count()\n",
    "\n",
    "# # Assuming ratings_df contains your DataFrame\n",
    "# ratings_df.createOrReplaceTempView(\"ratings\")\n",
    "\n",
    "# # Calculate min and max counts using Spark SQL\n",
    "# min_max_counts_df = spark.sql(\"\"\"\n",
    "#     SELECT MIN(count_by_userId) AS min_count, MAX(count_by_userId) AS max_count\n",
    "#     FROM (\n",
    "#         SELECT COUNT(*) AS count_by_userId\n",
    "#         FROM ratings\n",
    "#         GROUP BY userId\n",
    "#     )\n",
    "# \"\"\")\n",
    "\n",
    "# # Show the min and max counts\n",
    "# min_max_counts_df.show()"
   ]
  },
  {
   "cell_type": "code",
   "execution_count": 10,
   "id": "41f5c88d-b9ba-4721-b270-d5e8c065461b",
   "metadata": {},
   "outputs": [],
   "source": [
    "def most_common_tag_for_movie_title(tags_df, movies_df):\n",
    "    \"\"\"\n",
    "    Function finds the most common tag for a movie title.\n",
    "\n",
    "    Args:\n",
    "    - tags_df: DataFrame containing tags data\n",
    "    - movies_df: DataFrame containing movies data\n",
    "\n",
    "    Returns:\n",
    "    - DataFrame containing the most common tag for the movie title\n",
    "    \"\"\"\n",
    "    movie_tag_df = movies_df.join(tags_df, \"movieId\", \"left\")\n",
    "    most_common_tag_df = (\n",
    "        movie_tag_df\n",
    "        .groupBy(\"title\", \"tag\")\n",
    "        .agg(count(\"*\").alias(\"tag_count\"))\n",
    "        .orderBy(desc(\"tag_count\"))\n",
    "    )\n",
    "\n",
    "    # Get the row with the highest tag count for each movie\n",
    "    # Title Memento (2000) had multiple tags (nonlinear, twist ending). Handle it\n",
    "    window_spec = Window.partitionBy(\"title\").orderBy(desc(\"tag_count\"))\n",
    "    most_common_tag_df = (\n",
    "        most_common_tag_df\n",
    "        .withColumn(\"rank\", row_number().over(window_spec))\n",
    "        .filter(col(\"rank\") == 1).drop(\"rank\")\n",
    "        .orderBy(desc('tag_count'))\n",
    "    )\n",
    "    \n",
    "    return most_common_tag_df"
   ]
  },
  {
   "cell_type": "code",
   "execution_count": 11,
   "id": "dccc89db-3e21-4714-b5a6-74a50b92832b",
   "metadata": {},
   "outputs": [],
   "source": [
    "most_common_tag_df = most_common_tag_for_movie_title(tags_df, movies_df)"
   ]
  },
  {
   "cell_type": "code",
   "execution_count": 12,
   "id": "70466435-42b0-42a3-b174-6fff8f719233",
   "metadata": {},
   "outputs": [
    {
     "name": "stdout",
     "output_type": "stream",
     "text": [
      "+--------------------------------------------+-----------------+---------+\n",
      "|title                                       |tag              |tag_count|\n",
      "+--------------------------------------------+-----------------+---------+\n",
      "|Pulp Fiction (1994)                         |Quentin Tarantino|185      |\n",
      "|Fight Club (1999)                           |twist ending     |150      |\n",
      "|Memento (2000)                              |nonlinear        |145      |\n",
      "|Usual Suspects, The (1995)                  |twist ending     |139      |\n",
      "|Inception (2010)                            |alternate reality|128      |\n",
      "|Eternal Sunshine of the Spotless Mind (2004)|surreal          |127      |\n",
      "|Matrix, The (1999)                          |sci-fi           |120      |\n",
      "|Silence of the Lambs, The (1991)            |serial killer    |113      |\n",
      "|Twelve Monkeys (a.k.a. 12 Monkeys) (1995)   |time travel      |109      |\n",
      "|Inglourious Basterds (2009)                 |Quentin Tarantino|108      |\n",
      "+--------------------------------------------+-----------------+---------+\n",
      "only showing top 10 rows\n",
      "\n"
     ]
    }
   ],
   "source": [
    "most_common_tag_df.show(10, truncate=False)"
   ]
  },
  {
   "cell_type": "code",
   "execution_count": 6,
   "id": "838b892c-8619-4eb2-a67f-6e61a60ca451",
   "metadata": {},
   "outputs": [],
   "source": [
    "def most_common_genre_rated_by_user(ratings_df, movies_df):\n",
    "    \"\"\"\n",
    "    Function finds the most common genre rated by a user.\n",
    "\n",
    "    Args:\n",
    "    - ratings_df: DataFrame containing ratings data\n",
    "    - movies_df: DataFrame containing movies data\n",
    "\n",
    "    Returns:\n",
    "    - DataFrame containing the most common genre rated by a user\n",
    "    \"\"\"\n",
    "    user_rating_df = ratings_df.join(movies_df, \"movieId\", \"left\")\n",
    "    most_common_genre_df = (\n",
    "        user_rating_df\n",
    "        .withColumn(\"genre\", explode(split(\"genres\", \"\\\\|\")))\n",
    "        .groupBy(\"userId\", \"genre\")\n",
    "        .agg(count(\"*\").alias(\"genre_count\"))\n",
    "        .orderBy(desc(\"genre_count\"))\n",
    "    )\n",
    "    # Get the row with the most common genre for each user\n",
    "    # userId 104 has multiple (19). Handle it\n",
    "    window_spec = Window.partitionBy(\"userId\").orderBy(desc(\"genre_count\"))\n",
    "    most_common_genre_df = (\n",
    "        most_common_genre_df\n",
    "        .withColumn(\"rank\", row_number().over(window_spec))\n",
    "        .filter(col(\"rank\") == 1).drop(\"rank\")\n",
    "        .orderBy(desc('genre_count'))\n",
    "    )\n",
    "    return most_common_genre_df"
   ]
  },
  {
   "cell_type": "code",
   "execution_count": 7,
   "id": "e7ac1afb-0242-4ae8-bd3f-c650776acbe5",
   "metadata": {},
   "outputs": [
    {
     "name": "stderr",
     "output_type": "stream",
     "text": [
      "[Stage 15:>                                                         (0 + 4) / 4]\r"
     ]
    },
    {
     "name": "stdout",
     "output_type": "stream",
     "text": [
      "+------+------+-----------+\n",
      "|userId|genre |genre_count|\n",
      "+------+------+-----------+\n",
      "|118205|Drama |4857       |\n",
      "|8405  |Drama |3684       |\n",
      "|8963  |Drama |3240       |\n",
      "|121535|Drama |3228       |\n",
      "|82418 |Drama |3042       |\n",
      "|130767|Drama |3003       |\n",
      "|125794|Drama |2938       |\n",
      "|131904|Drama |2907       |\n",
      "|15617 |Drama |2693       |\n",
      "|63147 |Drama |2661       |\n",
      "|79159 |Drama |2501       |\n",
      "|83090 |Drama |2421       |\n",
      "|20132 |Drama |2351       |\n",
      "|74142 |Comedy|2319       |\n",
      "|125978|Drama |2308       |\n",
      "|111549|Drama |2238       |\n",
      "|105580|Drama |2193       |\n",
      "|88820 |Drama |2190       |\n",
      "|92011 |Drama |2117       |\n",
      "|68026 |Drama |2073       |\n",
      "+------+------+-----------+\n",
      "only showing top 20 rows\n",
      "\n",
      "DataFrame creation time: 27.89208197593689 seconds\n"
     ]
    },
    {
     "name": "stderr",
     "output_type": "stream",
     "text": [
      "                                                                                \r"
     ]
    }
   ],
   "source": [
    "start_time = time.time()\n",
    "most_common_genre_df = most_common_genre_rated_by_user(ratings_df, movies_df)\n",
    "most_common_genre_df.show(20, truncate=False)\n",
    "end_time = time.time()\n",
    "elapsed_time = end_time - start_time\n",
    "print(\"DataFrame creation time:\", elapsed_time, \"seconds\")"
   ]
  },
  {
   "cell_type": "code",
   "execution_count": 9,
   "id": "48bd2b05-99de-49cb-9893-6868a7be9d63",
   "metadata": {},
   "outputs": [
    {
     "name": "stderr",
     "output_type": "stream",
     "text": [
      "                                                                                \r"
     ]
    }
   ],
   "source": [
    "most_common_genre_df.write.csv(\"../output_data/most_common_genre\", header=True, mode=\"overwrite\")"
   ]
  },
  {
   "cell_type": "code",
   "execution_count": 10,
   "id": "e4ac6ef9-a704-4e62-ae1e-8eed624a3d75",
   "metadata": {},
   "outputs": [
    {
     "name": "stderr",
     "output_type": "stream",
     "text": [
      "                                                                                \r"
     ]
    },
    {
     "name": "stdout",
     "output_type": "stream",
     "text": [
      "+------+------+-----------+\n",
      "|userId|genre |genre_count|\n",
      "+------+------+-----------+\n",
      "|8405  |Drama |3684       |\n",
      "|8963  |Drama |3240       |\n",
      "|9544  |Drama |1702       |\n",
      "|2261  |Drama |1479       |\n",
      "|9034  |Drama |1449       |\n",
      "|3907  |Drama |1407       |\n",
      "|10303 |Drama |1371       |\n",
      "|7201  |Drama |1359       |\n",
      "|903   |Comedy|1178       |\n",
      "|3318  |Comedy|1168       |\n",
      "|3797  |Drama |1164       |\n",
      "|4222  |Drama |1137       |\n",
      "|6636  |Drama |1110       |\n",
      "|6373  |Drama |1110       |\n",
      "|6719  |Drama |1086       |\n",
      "|4358  |Comedy|1080       |\n",
      "|9087  |Drama |1051       |\n",
      "|9545  |Drama |1005       |\n",
      "|8647  |Comedy|976        |\n",
      "|3625  |Drama |971        |\n",
      "+------+------+-----------+\n",
      "only showing top 20 rows\n",
      "\n"
     ]
    }
   ],
   "source": [
    "most_common_genre_df.show(20, truncate=False)"
   ]
  },
  {
   "cell_type": "markdown",
   "id": "51143a3a-01ce-4bbd-9ccc-833b84ec9419",
   "metadata": {},
   "source": [
    "### Done"
   ]
  }
 ],
 "metadata": {
  "kernelspec": {
   "display_name": "Python 3 (ipykernel)",
   "language": "python",
   "name": "python3"
  },
  "language_info": {
   "codemirror_mode": {
    "name": "ipython",
    "version": 3
   },
   "file_extension": ".py",
   "mimetype": "text/x-python",
   "name": "python",
   "nbconvert_exporter": "python",
   "pygments_lexer": "ipython3",
   "version": "3.10.13"
  }
 },
 "nbformat": 4,
 "nbformat_minor": 5
}
